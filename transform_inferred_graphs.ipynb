{
 "metadata": {
  "language_info": {
   "codemirror_mode": {
    "name": "ipython",
    "version": 3
   },
   "file_extension": ".py",
   "mimetype": "text/x-python",
   "name": "python",
   "nbconvert_exporter": "python",
   "pygments_lexer": "ipython3",
   "version": "3.8.6-final"
  },
  "orig_nbformat": 2,
  "kernelspec": {
   "name": "python3",
   "display_name": "Python 3.8.6 64-bit ('python-torch')",
   "metadata": {
    "interpreter": {
     "hash": "fbaf0556274e5564072db3c2590affa55a59ae83f8c6a4767be9e51c7962c74b"
    }
   }
  }
 },
 "nbformat": 4,
 "nbformat_minor": 2,
 "cells": [
  {
   "cell_type": "code",
   "execution_count": 14,
   "metadata": {},
   "outputs": [],
   "source": [
    "# Imports\n",
    "from pathlib import Path\n",
    "import glob\n",
    "import json\n",
    "import os.path\n",
    "\n",
    "from gat_vqa.config.gqa import GQASplit, GQAVersion\n"
   ]
  },
  {
   "cell_type": "code",
   "execution_count": 15,
   "metadata": {},
   "outputs": [],
   "source": [
    "# Files Loading\n",
    "def load_file(name):\n",
    "    \"\"\"Load a file.\"\"\"\n",
    "    print(name)\n",
    "    # load standard json file\n",
    "    if os.path.isfile(name):\n",
    "        with open(name) as file:\n",
    "            data = json.load(file)\n",
    "    # load file chunks if too big\n",
    "    elif os.path.isdir(os.path.dirname(name)):\n",
    "        dir_, ext = os.path.splitext(os.path.basename(name))\n",
    "        data = {}\n",
    "        chunks = glob.glob(\n",
    "            os.path.join(\n",
    "                os.path.dirname(name), \"{dir}/{dir}_*{ext}\".format(dir=dir_, ext=ext)\n",
    "            )\n",
    "        )\n",
    "        print(chunks)\n",
    "        for chunk in chunks:\n",
    "            with open(chunk) as file:\n",
    "                data.update(json.load(file))\n",
    "    else:\n",
    "        raise Exception(\"Can't find {}\".format(name))\n",
    "    return data"
   ]
  },
  {
   "cell_type": "code",
   "execution_count": 16,
   "metadata": {},
   "outputs": [
    {
     "output_type": "stream",
     "name": "stdout",
     "text": [
      "data/gqa/questions/val_all_questions.json\n"
     ]
    }
   ],
   "source": [
    "tiers = [split.value for split in GQASplit]\n",
    "for tier in tiers:\n",
    "    ### TODO remove when we have more memory\n",
    "    if tier == \"train\":\n",
    "        continue\n",
    "    ###\n",
    "\n",
    "    question_path = f\"data/gqa/questions/{tier}_all_questions.json\"\n",
    "    questions = load_file(question_path)\n",
    "    img_ids = list(set([q_data['imageId'] for q_data in questions]))\n",
    "    with open(f\"./ids/{tier}.json\", \"w\") as f:\n",
    "        json.dump(img_ids, f)"
   ]
  },
  {
   "cell_type": "code",
   "execution_count": null,
   "metadata": {},
   "outputs": [],
   "source": []
  }
 ]
}
